{
 "cells": [
  {
   "cell_type": "markdown",
   "metadata": {},
   "source": [
    "## Creation of a subset of RMH 2018 for punctuation training and testing\n",
    "\n",
    "Select text only from sources with rather reliable punctuation and structure. The sources are morgunbladid, i.e. newspaper material, textasafn_arnastofnun, i.e. published books, and 'ras1_og_2', 'ruv', 'sjonvarpid', 'stod2', 'bylgjan', which are tv and radio material, together called \"Ljósvakamidlar\" on malheildir.arnastofnun.is.\n"
   ]
  },
  {
   "cell_type": "code",
   "execution_count": 1,
   "metadata": {},
   "outputs": [],
   "source": [
    "# The location of RMH to read\n",
    "rmh_dir = '/work/helgasvala/data/raw/risamalheild'\n",
    "\n",
    "# The location of where to write the results\n",
    "target_dir = '/work/inga/data/rmh_subset'"
   ]
  },
  {
   "cell_type": "code",
   "execution_count": 2,
   "metadata": {},
   "outputs": [
    {
     "name": "stdout",
     "output_type": "stream",
     "text": [
      "/work/helgasvala/data/raw/risamalheild\n"
     ]
    }
   ],
   "source": [
    "import pathlib\n",
    "\n",
    "rmh_dir = pathlib.Path(rmh_dir)\n",
    "print(rmh_dir)\n",
    "target_dir = pathlib.Path(target_dir)\n",
    "assert rmh_dir.exists()\n",
    "if not target_dir.exists():\n",
    "    target_dir.mkdir()"
   ]
  },
  {
   "cell_type": "code",
   "execution_count": 3,
   "metadata": {},
   "outputs": [],
   "source": [
    "from concurrent.futures import ProcessPoolExecutor\n",
    "from tqdm import tqdm\n",
    "from pathlib import Path\n",
    "from typing import Sequence\n",
    "from xml.etree import ElementTree as ET\n",
    "\n",
    "def tei_read_file(path: Path) -> Sequence[str]:\n",
    "    \"\"\"Reads a tei file to extract the contents. Hand-tailored to reading the RMH.\n",
    "\n",
    "    Adjusted code from xml_tools.py from Róbert Kjaran <robert@kjaran.com>\n",
    "\n",
    "    :param path: A pathlib.Path to the .tei file to read.\\n\n",
    "    :return: A List of sentences as defined in the .tei file.\n",
    "    \"\"\"\n",
    "    NS = {'a': 'http://www.tei-c.org/ns/1.0'}\n",
    "    root = ET.parse(str(path)).getroot()\n",
    "    sentences = []\n",
    "    # We gather all the paragraphs from the body, avoiding the divs\n",
    "    for paragraph_node in root.findall('.//a:body//a:p', NS):\n",
    "        for sentence_node in paragraph_node.findall('.//a:s', NS):\n",
    "            tokens = [(token_node.text, token_node.attrib['type'])\n",
    "                      for token_node in sentence_node.findall('./*')]\n",
    "            sentence: List[str] = []\n",
    "            for i, token in enumerate(tokens):\n",
    "                if token[0] is None:\n",
    "                    continue\n",
    "                sentence.append(token[0] + ' ')\n",
    "            sentences.append(''.join(sentence).strip() + '\\n')\n",
    "    return sentences\n",
    "\n",
    "\n",
    "def tei_read(paths: Sequence[Path], out_path: Path) -> bool:\n",
    "    \"\"\"Reads a sequence of Path of TEI files from RMH and writes to a single file.\n",
    "    Uses multiple threads.\n",
    "\n",
    "    :param paths: A Sequence of pathlib.Path of .tei files to read.\\n\n",
    "    :param out_path: pathlib.Path to write the contents to.\\n\n",
    "    :return: True if successful.\n",
    "    \"\"\"\n",
    "    with out_path.open('w+') as f_out:\n",
    "        with ProcessPoolExecutor(max_workers=14) as executor:\n",
    "            results = tqdm(executor.map(\n",
    "                tei_read_file,\n",
    "                paths,\n",
    "                chunksize=200),\n",
    "                total=len(paths))\n",
    "            for result in results:\n",
    "                f_out.write(''.join(result))\n",
    "    return True"
   ]
  },
  {
   "cell_type": "code",
   "execution_count": 4,
   "metadata": {},
   "outputs": [
    {
     "name": "stdout",
     "output_type": "stream",
     "text": [
      "textasafn_arnastofnun 115\n"
     ]
    },
    {
     "name": "stderr",
     "output_type": "stream",
     "text": [
      "100%|██████████| 115/115 [00:26<00:00,  4.33it/s]\n"
     ]
    },
    {
     "name": "stdout",
     "output_type": "stream",
     "text": [
      "kjarninn 9110\n"
     ]
    },
    {
     "name": "stderr",
     "output_type": "stream",
     "text": [
      "100%|██████████| 9110/9110 [00:17<00:00, 521.74it/s] \n"
     ]
    },
    {
     "name": "stdout",
     "output_type": "stream",
     "text": [
      "ras1_og_2 143232\n"
     ]
    },
    {
     "name": "stderr",
     "output_type": "stream",
     "text": [
      "100%|██████████| 143232/143232 [01:40<00:00, 1422.46it/s]\n"
     ]
    },
    {
     "name": "stdout",
     "output_type": "stream",
     "text": [
      "ruv 259570\n"
     ]
    },
    {
     "name": "stderr",
     "output_type": "stream",
     "text": [
      "100%|██████████| 259570/259570 [05:30<00:00, 784.26it/s] \n"
     ]
    },
    {
     "name": "stdout",
     "output_type": "stream",
     "text": [
      "sjonvarpid 75786\n"
     ]
    },
    {
     "name": "stderr",
     "output_type": "stream",
     "text": [
      "100%|██████████| 75786/75786 [01:05<00:00, 1160.12it/s]\n"
     ]
    },
    {
     "name": "stdout",
     "output_type": "stream",
     "text": [
      "stod2 58189\n"
     ]
    },
    {
     "name": "stderr",
     "output_type": "stream",
     "text": [
      "100%|██████████| 58189/58189 [01:26<00:00, 676.55it/s] \n"
     ]
    },
    {
     "name": "stdout",
     "output_type": "stream",
     "text": [
      "bylgjan 57723\n"
     ]
    },
    {
     "name": "stderr",
     "output_type": "stream",
     "text": [
      "100%|██████████| 57723/57723 [01:38<00:00, 584.67it/s] \n"
     ]
    }
   ],
   "source": [
    "# When choosing only from a few specific data sources\n",
    "from glob import glob\n",
    "import os\n",
    "import random\n",
    "\n",
    "dir_names = ['morgunbladid', 'textasafn_arnastofnun' \\\n",
    "             'ras1_og_2', 'ruv', 'sjonvarpid', 'stod2', 'bylgjan']\n",
    "\n",
    "for d in dir_names:\n",
    "    p1 = os.path.join(os.path.join(rmh_dir, 'MIM'), d)\n",
    "    p2 = os.path.join(os.path.join(rmh_dir, 'CC_BY'), d)\n",
    "    if os.path.isdir(p1):\n",
    "        xml_files = glob(f'{p1}/**/*.xml', recursive=True)\n",
    "    elif os.path.isdir(p2):\n",
    "        xml_files = glob(f'{p2}/**/*.xml', recursive=True)\n",
    "    \n",
    "    print(d, len(xml_files))\n",
    "    rmh_txt = Path(target_dir).joinpath(f'rmh_{d}.txt')\n",
    "    tei_read([Path(tei_file) for tei_file in xml_files], rmh_txt)"
   ]
  }
 ],
 "metadata": {
  "kernelspec": {
   "display_name": "Python 3",
   "language": "python",
   "name": "python3"
  },
  "language_info": {
   "codemirror_mode": {
    "name": "ipython",
    "version": 3
   },
   "file_extension": ".py",
   "mimetype": "text/x-python",
   "name": "python",
   "nbconvert_exporter": "python",
   "pygments_lexer": "ipython3",
   "version": "3.7.4"
  }
 },
 "nbformat": 4,
 "nbformat_minor": 2
}
